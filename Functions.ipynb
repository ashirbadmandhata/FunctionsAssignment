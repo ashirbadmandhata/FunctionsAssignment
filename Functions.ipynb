{
  "nbformat": 4,
  "nbformat_minor": 0,
  "metadata": {
    "colab": {
      "provenance": []
    },
    "kernelspec": {
      "name": "python3",
      "display_name": "Python 3"
    },
    "language_info": {
      "name": "python"
    }
  },
  "cells": [
    {
      "cell_type": "markdown",
      "source": [
        "#Functions Assignment\n",
        "## Theory :-"
      ],
      "metadata": {
        "id": "HAwWUlgu49Pl"
      }
    },
    {
      "cell_type": "markdown",
      "source": [
        "1. What is the difference between a function and a method in Python?  \n",
        "    - A function in Python is a block of reusable code that performs a specific task and can be called independently. A method, on the other hand, is a function that is associated with an object and can only be called on that object. Methods are usually defined within a class and operate on the data within the object.  \n",
        "\n",
        "   Example:  \n",
        "   ```python\n",
        "   def greet(name):\n",
        "       return f\"Hello, {name}!\"\n",
        "\n",
        "   print(greet(\"Alice\"))\n",
        "\n",
        "   class Person:\n",
        "       def __init__(self, name):\n",
        "           self.name = name\n",
        "\n",
        "       def greet(self):\n",
        "           return f\"Hello, {self.name}!\"\n",
        "\n",
        "   person = Person(\"Alice\")\n",
        "   print(person.greet())\n",
        "   ```\n",
        "\n",
        "2. Explain the concept of function arguments and parameters in Python.  \n",
        "   -  Parameters are the variables that are listed inside the parentheses in the function definition, while arguments are the actual values passed to the function when it is called. Parameters define the input a function expects, whereas arguments provide the actual data.  \n",
        "\n",
        "   Example:\n",
        "   ```python\n",
        "   def add(a, b):\n",
        "       return a + b\n",
        "\n",
        "   result = add(5, 3)\n",
        "   print(result)\n",
        "   ```\n",
        "\n",
        "3. What are the different ways to define and call a function in Python?  \n",
        "    - Functions in Python can be defined using the `def` keyword and called by using their name followed by parentheses. Functions can be called in several ways, including positional arguments, keyword arguments, default arguments, and variable-length arguments.\n",
        "\n",
        "   Example:  \n",
        "   ```python\n",
        "   def greet(name=\"Guest\"):\n",
        "       return f\"Welcome, {name}!\"\n",
        "\n",
        "   print(greet())\n",
        "   print(greet(\"Alice\"))\n",
        "\n",
        "   def sum_values(*args):\n",
        "       return sum(args)\n",
        "\n",
        "   print(sum_values(1, 2, 3, 4))\n",
        "\n",
        "   def introduce(name, age):\n",
        "       return f\"My name is {name} and I am {age} years old.\"\n",
        "\n",
        "   print(introduce(age=25, name=\"Bob\"))\n",
        "   ```\n",
        "\n",
        "\n",
        "4. What is the purpose of the `return` statement in a Python function?  \n",
        "\n",
        "    - The `return` statement in Python is used to send a value back from a function to the caller. It allows a function to produce a result that can be stored in a variable or used in further operations. Once the `return` statement is executed, the function terminates, and no further code inside the function runs.\n",
        "\n",
        "Example:\n",
        "```python\n",
        "def add_numbers(a, b):\n",
        "    return a + b\n",
        "\n",
        "result = add_numbers(3, 5)\n",
        "print(result)  # Output: 8\n",
        "```\n",
        "\n",
        "---\n",
        "\n",
        "5.  What are iterators in Python and how do they differ from iterables?  \n",
        "\n",
        "    - An iterator in Python is an object that allows traversal through a sequence of elements one at a time using the `next()` function. It maintains the state of the iteration and knows where it left off. An iterator must implement the `__iter__()` and `__next__()` methods.  \n",
        "\n",
        "    - An iterable, on the other hand, is an object that contains multiple elements and can return an iterator when passed to the `iter()` function. Examples of iterables include lists, tuples, and strings. The key difference is that an iterable can be iterated over, but an iterator is what actually performs the iteration.\n",
        "\n",
        "Example:  \n",
        "```python\n",
        "my_list = [1, 2, 3]\n",
        "iterator = iter(my_list)\n",
        "\n",
        "print(next(iterator))  # Output: 1\n",
        "print(next(iterator))  # Output: 2\n",
        "print(next(iterator))  # Output: 3\n",
        "```\n",
        "\n",
        "---\n",
        "\n",
        "6. Explain the concept of generators in Python and how they are defined.  \n",
        "\n",
        "   - Generators in Python are a special type of iterator that allows you to yield values one at a time using the `yield` keyword instead of returning all values at once. Generators help in saving memory because they produce values lazily, generating each value only when requested.\n",
        "\n",
        "   - Generators are defined using functions that contain the `yield` statement instead of `return`. When the generator function is called, it returns a generator object without executing the function. The values are produced using the `next()` function or a loop.\n",
        "\n",
        "Example:  \n",
        "```python\n",
        "def count_up_to(n):\n",
        "    count = 1\n",
        "    while count <= n:\n",
        "        yield count\n",
        "        count += 1\n",
        "\n",
        "for number in count_up_to(5):\n",
        "    print(number)\n",
        "```\n",
        "\n",
        "\n",
        "7. What are the advantages of using generators over regular functions?  \n",
        "\n",
        "   - Generators offer several advantages over regular functions, especially when dealing with large datasets or infinite sequences.  \n",
        "\n",
        "   - **Memory Efficiency:** Generators produce values one at a time, which means they don't store all values in memory at once, unlike regular functions that return lists.  \n",
        "   - **Lazy Evaluation:** They generate values on demand, which improves performance and reduces processing time when dealing with large data.  \n",
        "   - **Improved Readability:** Generators make it easier to express complex iteration logic using `yield`, leading to cleaner and more maintainable code.  \n",
        "   - **State Persistence:** They maintain their state between successive calls, avoiding the need for external variables.\n",
        "\n",
        "**Example:**  \n",
        "```python\n",
        "def square_numbers(n):\n",
        "    for i in range(n):\n",
        "        yield i * i\n",
        "\n",
        "for num in square_numbers(5):\n",
        "    print(num)\n",
        "```\n",
        "\n",
        "---\n",
        "\n",
        "8. What is a lambda function in Python and when is it typically used?  \n",
        "\n",
        "    - A lambda function in Python is an anonymous, single-line function defined using the `lambda` keyword. It can take multiple arguments but can only contain a single expression. Lambda functions are typically used for short, simple operations where defining a full function would be unnecessary.\n",
        "\n",
        "**Common uses:**  \n",
        "  - Used in functional programming with `map()`, `filter()`, and `reduce()`  \n",
        "  - When a short function is needed temporarily  \n",
        "  - As a key function in sorting operations  \n",
        "\n",
        "**Example:**  \n",
        "```python\n",
        "square = lambda x: x * x\n",
        "print(square(4))  # Output: 16\n",
        "\n",
        "sum_two_numbers = lambda a, b: a + b\n",
        "print(sum_two_numbers(3, 5))  # Output: 8\n",
        "```\n",
        "\n",
        "\n",
        "9. Explain the purpose and usage of the `map()` function in Python.  \n",
        "\n",
        "   - The `map()` function in Python is used to apply a given function to all elements in an iterable (such as a list or tuple) and returns a new map object (which can be converted to a list, tuple, etc.). It allows for concise transformations without the need for explicit loops.\n",
        "\n",
        "**Syntax:**  \n",
        "```python\n",
        "map(function, iterable)\n",
        "```\n",
        "\n",
        "**Example:**  \n",
        "```python\n",
        "numbers = [1, 2, 3, 4]\n",
        "squared_numbers = map(lambda x: x ** 2, numbers)\n",
        "print(list(squared_numbers))  # Output: [1, 4, 9, 16]\n",
        "```\n",
        "\n",
        "\n",
        "\n",
        "10. What is the difference between `map()`, `reduce()`, and `filter()` functions in Python?  \n",
        "\n",
        "    - These three functions are used for functional programming in Python, but they serve different purposes:  \n",
        "\n",
        "    - **`map()`** – Applies a function to every element in an iterable and returns a new iterable with the transformed values.  \n",
        "    - Example: `map(lambda x: x*2, [1, 2, 3])` → `[2, 4, 6]`  \n",
        "\n",
        "    - **`filter()`** – Applies a function to filter elements based on a condition and returns only the elements that satisfy the condition.  \n",
        "    - Example: `filter(lambda x: x % 2 == 0, [1, 2, 3, 4])` → `[2, 4]`  \n",
        "\n",
        "    - **`reduce()`** – Applies a function cumulatively to the elements of an iterable, reducing them to a single value. It is available in the `functools` module.  \n",
        "    - Example: `reduce(lambda x, y: x + y, [1, 2, 3, 4])` → `10`  \n",
        "\n",
        "**Example usage:**  \n",
        "```python\n",
        "from functools import reduce\n",
        "\n",
        "numbers = [1, 2, 3, 4]\n",
        "\n",
        "mapped = map(lambda x: x * 2, numbers)\n",
        "filtered = filter(lambda x: x % 2 == 0, numbers)\n",
        "reduced = reduce(lambda x, y: x + y, numbers)\n",
        "\n",
        "print(list(mapped))  # Output: [2, 4, 6, 8]\n",
        "print(list(filtered))  # Output: [2, 4]\n",
        "print(reduced)  # Output: 10\n",
        "```\n",
        "\n",
        "\n",
        "\n",
        "11. Using pen & Paper write the internal mechanism for sum operation using  reduce function on this given\n",
        "list:[47,11,42,13];\n",
        "    - The ans is attached in the pdf"
      ],
      "metadata": {
        "id": "bYqkJS2O5OCN"
      }
    },
    {
      "cell_type": "markdown",
      "source": [
        "# Practical questions and Ans"
      ],
      "metadata": {
        "id": "mj3sa9PfDOz1"
      }
    },
    {
      "cell_type": "code",
      "source": [
        "# 1. Write a Python function that takes a list of numbers as input and returns the sum of all even numbers in the list.\n",
        "def sum_of_evens(numbers):\n",
        "    return sum(num for num in numbers if num % 2 == 0)\n",
        "\n",
        "numbers = [1, 2, 3, 4, 5, 6]\n",
        "result = sum_of_evens(numbers)\n",
        "print(result)\n",
        "\n"
      ],
      "metadata": {
        "colab": {
          "base_uri": "https://localhost:8080/"
        },
        "id": "o623NC8RDUhJ",
        "outputId": "0123e3d1-b205-4027-f582-077760c62b69"
      },
      "execution_count": 1,
      "outputs": [
        {
          "output_type": "stream",
          "name": "stdout",
          "text": [
            "12\n"
          ]
        }
      ]
    },
    {
      "cell_type": "code",
      "source": [
        "#2 Create a Python function that accepts a string and returns the reverse of that string\n",
        "def reverse_string(s):\n",
        "    return s[::-1]\n",
        "\n",
        "text = \"hello\"\n",
        "result = reverse_string(text)\n",
        "print(result)\n"
      ],
      "metadata": {
        "colab": {
          "base_uri": "https://localhost:8080/"
        },
        "id": "gzeJGPGuDsMZ",
        "outputId": "7a03ff69-aee3-4980-d021-9c1243c1acc7"
      },
      "execution_count": 2,
      "outputs": [
        {
          "output_type": "stream",
          "name": "stdout",
          "text": [
            "olleh\n"
          ]
        }
      ]
    },
    {
      "cell_type": "code",
      "source": [
        "#3.  Implement a Python function that takes a list of integers and returns a new list containing the squares of each number.\n",
        "def square_numbers(numbers):\n",
        "    return [num ** 2 for num in numbers]\n",
        "\n",
        "numbers = [1, 2, 3, 4, 5]\n",
        "result = square_numbers(numbers)\n",
        "print(result)\n"
      ],
      "metadata": {
        "colab": {
          "base_uri": "https://localhost:8080/"
        },
        "id": "1SModUVhD8yU",
        "outputId": "b2fd172b-ded0-4c8a-a36b-f663e4c152ff"
      },
      "execution_count": 3,
      "outputs": [
        {
          "output_type": "stream",
          "name": "stdout",
          "text": [
            "[1, 4, 9, 16, 25]\n"
          ]
        }
      ]
    },
    {
      "cell_type": "code",
      "source": [
        "#4. Write a Python function that checks if a given number is prime or not from 1 to 200.\n",
        "def is_prime(n):\n",
        "    if n < 2:\n",
        "        return False\n",
        "    for i in range(2, int(n ** 0.5) + 1):\n",
        "        if n % i == 0:\n",
        "            return False\n",
        "    return True\n",
        "\n",
        "for num in range(1, 201):\n",
        "    if is_prime(num):\n",
        "        print(f\"{num} is a prime number\")\n"
      ],
      "metadata": {
        "colab": {
          "base_uri": "https://localhost:8080/"
        },
        "id": "JFu0VUc8EbmD",
        "outputId": "f898d49d-8082-4825-992e-139794e68ec7"
      },
      "execution_count": 5,
      "outputs": [
        {
          "output_type": "stream",
          "name": "stdout",
          "text": [
            "2 is a prime number\n",
            "3 is a prime number\n",
            "5 is a prime number\n",
            "7 is a prime number\n",
            "11 is a prime number\n",
            "13 is a prime number\n",
            "17 is a prime number\n",
            "19 is a prime number\n",
            "23 is a prime number\n",
            "29 is a prime number\n",
            "31 is a prime number\n",
            "37 is a prime number\n",
            "41 is a prime number\n",
            "43 is a prime number\n",
            "47 is a prime number\n",
            "53 is a prime number\n",
            "59 is a prime number\n",
            "61 is a prime number\n",
            "67 is a prime number\n",
            "71 is a prime number\n",
            "73 is a prime number\n",
            "79 is a prime number\n",
            "83 is a prime number\n",
            "89 is a prime number\n",
            "97 is a prime number\n",
            "101 is a prime number\n",
            "103 is a prime number\n",
            "107 is a prime number\n",
            "109 is a prime number\n",
            "113 is a prime number\n",
            "127 is a prime number\n",
            "131 is a prime number\n",
            "137 is a prime number\n",
            "139 is a prime number\n",
            "149 is a prime number\n",
            "151 is a prime number\n",
            "157 is a prime number\n",
            "163 is a prime number\n",
            "167 is a prime number\n",
            "173 is a prime number\n",
            "179 is a prime number\n",
            "181 is a prime number\n",
            "191 is a prime number\n",
            "193 is a prime number\n",
            "197 is a prime number\n",
            "199 is a prime number\n"
          ]
        }
      ]
    },
    {
      "cell_type": "code",
      "source": [
        "#5. Create an iterator class in Python that generates the Fibonacci sequence up to a specified number of terms.\n",
        "class FibonacciIterator:\n",
        "    def __init__(self, n_terms):\n",
        "        self.n_terms = n_terms\n",
        "        self.count = 0\n",
        "        self.a, self.b = 0, 1\n",
        "\n",
        "    def __iter__(self):\n",
        "        return self\n",
        "\n",
        "    def __next__(self):\n",
        "        if self.count >= self.n_terms:\n",
        "            raise StopIteration\n",
        "        if self.count == 0:\n",
        "            self.count += 1\n",
        "            return 0\n",
        "        elif self.count == 1:\n",
        "            self.count += 1\n",
        "            return 1\n",
        "        else:\n",
        "            self.a, self.b = self.b, self.a + self.b\n",
        "            self.count += 1\n",
        "            return self.a\n",
        "\n",
        "fib = FibonacciIterator(10)\n",
        "for num in fib:\n",
        "    print(num, end=\" \")\n"
      ],
      "metadata": {
        "colab": {
          "base_uri": "https://localhost:8080/"
        },
        "id": "QPU66D-8Fymh",
        "outputId": "05e22064-1894-4825-ba47-3b3a2be8974e"
      },
      "execution_count": 9,
      "outputs": [
        {
          "output_type": "stream",
          "name": "stdout",
          "text": [
            "0 1 1 1 2 3 5 8 13 21 "
          ]
        }
      ]
    },
    {
      "cell_type": "code",
      "source": [
        "#6. Write a generator function in Python that yields the powers of 2 up to a given exponent.\n",
        "def powers_of_2(exponent):\n",
        "    for i in range(exponent + 1):\n",
        "        yield 2 ** i\n",
        "\n",
        "for power in powers_of_2(5):\n",
        "    print(power, end=\" \")\n"
      ],
      "metadata": {
        "colab": {
          "base_uri": "https://localhost:8080/"
        },
        "id": "Fi5vv6PnGIJ1",
        "outputId": "c91011ea-89b2-42c7-dbbe-a497c67ff02f"
      },
      "execution_count": 10,
      "outputs": [
        {
          "output_type": "stream",
          "name": "stdout",
          "text": [
            "1 2 4 8 16 32 "
          ]
        }
      ]
    },
    {
      "cell_type": "code",
      "source": [
        "#7.  Implement a generator function that reads a file line by line and yields each line as a string.\n",
        "def read_file_line_by_line(file_path):\n",
        "    with open(file_path, 'r') as file:\n",
        "        for line in file:\n",
        "            yield line.strip()  # Use .strip() to remove any leading/trailing whitespace\n",
        "\n",
        "file_path = 'example.txt'\n",
        "for line in read_file_line_by_line(file_path):\n",
        "    print(line)"
      ],
      "metadata": {
        "id": "ujBigW8JHJsA"
      },
      "execution_count": null,
      "outputs": []
    },
    {
      "cell_type": "code",
      "source": [
        "#8. Use a lambda function in Python to sort a list of tuples based on the second element of each tuple.\n",
        "tuples_list = [(1, 3), (2, 1), (4, 2), (5, 0)]\n",
        "\n",
        "sorted_list = sorted(tuples_list, key=lambda x: x[1])\n",
        "print(sorted_list)\n"
      ],
      "metadata": {
        "colab": {
          "base_uri": "https://localhost:8080/"
        },
        "id": "dskzcU9tHNvg",
        "outputId": "6f8aff13-d3d7-4d10-edcf-a21f1f41e63f"
      },
      "execution_count": 12,
      "outputs": [
        {
          "output_type": "stream",
          "name": "stdout",
          "text": [
            "[(5, 0), (2, 1), (4, 2), (1, 3)]\n"
          ]
        }
      ]
    },
    {
      "cell_type": "code",
      "source": [
        "#9.  Write a Python program that uses `map()` to convert a list of temperatures from Celsius to Fahrenheit.\n",
        "\n",
        "celsius_temps = [0, 20, 37, 100]\n",
        "\n",
        "def celsius_to_fahrenheit(celsius):\n",
        "    return (celsius * 9/5) + 32\n",
        "fahrenheit_temps = list(map(celsius_to_fahrenheit, celsius_temps))\n",
        "\n",
        "print(fahrenheit_temps)\n"
      ],
      "metadata": {
        "colab": {
          "base_uri": "https://localhost:8080/"
        },
        "id": "FAyhVE8rHkqq",
        "outputId": "61fd80fb-fc95-4855-ff21-216884c2bf25"
      },
      "execution_count": 13,
      "outputs": [
        {
          "output_type": "stream",
          "name": "stdout",
          "text": [
            "[32.0, 68.0, 98.6, 212.0]\n"
          ]
        }
      ]
    },
    {
      "cell_type": "code",
      "source": [
        "#10.  Create a Python program that uses `filter()` to remove all the vowels from a given string.\n",
        "def remove_vowels(string):\n",
        "    vowels = \"aeiouAEIOU\"\n",
        "    filtered_string = \"\".join(filter(lambda x: x not in vowels, string))\n",
        "    return filtered_string\n",
        "input_string = \"Hello, World!\"\n",
        "result = remove_vowels(input_string)\n",
        "print(result)"
      ],
      "metadata": {
        "colab": {
          "base_uri": "https://localhost:8080/"
        },
        "id": "2TJSbIIOICDv",
        "outputId": "a7d1d5e8-2799-4d97-c5e3-e3e62ea3ca26"
      },
      "execution_count": 15,
      "outputs": [
        {
          "output_type": "stream",
          "name": "stdout",
          "text": [
            "Hll, Wrld!\n"
          ]
        }
      ]
    },
    {
      "cell_type": "code",
      "source": [
        "'''11.  Imagine an accounting routine used in a book shop. It works on a list with sublists, which look like this:\n",
        "Write a Python program, which returns a list with 2-tuples. Each tuple consists of the order number and the\n",
        "product of the price per item and the quantity. The product should be increased by 10,- € if the value of the\n",
        "order is smaller than 100,00 €.\n",
        "\n",
        "Write a Python program using lambda and map.\n",
        "'''\n",
        "orders = [\n",
        "    (34587, \"Learning Python, Mark Lutz\", 4, 40.95),\n",
        "    (98762, \"Programming Python, Mark Lutz\", 5, 56.80),\n",
        "    (77226, \"Head First Python, Paul Barry\", 3, 32.95),\n",
        "    (88112, \"Einführung in Python3, Bernd Klein\", 3, 24.99)\n",
        "]\n",
        "\n",
        "result = list(map(lambda order:\n",
        "                  (order[0], order[2] * order[3] + 10 if order[2] * order[3] < 100 else order[2] * order[3]),\n",
        "                  orders))\n",
        "\n",
        "print(result)"
      ],
      "metadata": {
        "colab": {
          "base_uri": "https://localhost:8080/"
        },
        "id": "40uMZcawIYAA",
        "outputId": "c4930781-1212-4e81-d75e-a0635b30ead7"
      },
      "execution_count": 16,
      "outputs": [
        {
          "output_type": "stream",
          "name": "stdout",
          "text": [
            "[(34587, 163.8), (98762, 284.0), (77226, 108.85000000000001), (88112, 84.97)]\n"
          ]
        }
      ]
    }
  ]
}